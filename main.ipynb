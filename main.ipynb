{
 "cells": [
  {
   "cell_type": "code",
   "execution_count": 1,
   "id": "3e2720a4",
   "metadata": {},
   "outputs": [],
   "source": [
    "import pandas as pd\n",
    "import pdfplumber as pp\n",
    "import os"
   ]
  },
  {
   "cell_type": "code",
   "execution_count": 2,
   "id": "0f5c9eb4",
   "metadata": {},
   "outputs": [],
   "source": [
    "Rows={}"
   ]
  },
  {
   "cell_type": "code",
   "execution_count": 3,
   "id": "3712c48c",
   "metadata": {},
   "outputs": [],
   "source": [
    "no_of_rows=int(input(\"Enter the no of rows you want : \"))"
   ]
  },
  {
   "cell_type": "code",
   "execution_count": 1,
   "id": "1c2aa817",
   "metadata": {},
   "outputs": [
    {
     "ename": "NameError",
     "evalue": "name 'no_of_rows' is not defined",
     "output_type": "error",
     "traceback": [
      "\u001b[31m---------------------------------------------------------------------------\u001b[39m",
      "\u001b[31mNameError\u001b[39m                                 Traceback (most recent call last)",
      "\u001b[36mCell\u001b[39m\u001b[36m \u001b[39m\u001b[32mIn[1]\u001b[39m\u001b[32m, line 1\u001b[39m\n\u001b[32m----> \u001b[39m\u001b[32m1\u001b[39m \u001b[38;5;28;01mfor\u001b[39;00m i \u001b[38;5;129;01min\u001b[39;00m \u001b[38;5;28mrange\u001b[39m(\u001b[43mno_of_rows\u001b[49m):\n\u001b[32m      2\u001b[39m     row1=\u001b[38;5;28minput\u001b[39m(\u001b[33mf\u001b[39m\u001b[33m\"\u001b[39m\u001b[33mWhat is the name of row \u001b[39m\u001b[38;5;132;01m{\u001b[39;00mi\u001b[38;5;132;01m}\u001b[39;00m\u001b[33m?\u001b[39m\u001b[33m\"\u001b[39m)\n\u001b[32m      3\u001b[39m     Rows[\u001b[33m\"\u001b[39m\u001b[33mrow1\u001b[39m\u001b[33m\"\u001b[39m]=row1\n",
      "\u001b[31mNameError\u001b[39m: name 'no_of_rows' is not defined"
     ]
    }
   ],
   "source": [
    "for i in range(no_of_rows):\n",
    "    row1=input(f\"What is the name of row {i}?\")\n",
    "    Rows[\"row1\"]=row1\n",
    "    \n",
    "    \n",
    "    \n",
    "    \n",
    "    Rows[\"row2\"]=row2\n"
   ]
  },
  {
   "cell_type": "code",
   "execution_count": 13,
   "id": "c4809b12",
   "metadata": {},
   "outputs": [
    {
     "name": "stdout",
     "output_type": "stream",
     "text": [
      "{'row1': 'Reg_no'}\n"
     ]
    }
   ],
   "source": [
    "print(Rows)"
   ]
  },
  {
   "cell_type": "code",
   "execution_count": null,
   "id": "72dcdfff",
   "metadata": {},
   "outputs": [],
   "source": []
  }
 ],
 "metadata": {
  "kernelspec": {
   "display_name": "Python 3",
   "language": "python",
   "name": "python3"
  },
  "language_info": {
   "codemirror_mode": {
    "name": "ipython",
    "version": 3
   },
   "file_extension": ".py",
   "mimetype": "text/x-python",
   "name": "python",
   "nbconvert_exporter": "python",
   "pygments_lexer": "ipython3",
   "version": "3.13.3"
  }
 },
 "nbformat": 4,
 "nbformat_minor": 5
}
