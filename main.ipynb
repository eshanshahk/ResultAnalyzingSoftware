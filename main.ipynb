{
 "cells": [
  {
   "cell_type": "code",
   "execution_count": 9,
   "id": "3e2720a4",
   "metadata": {},
   "outputs": [],
   "source": [
    "import pandas as pd\n",
    "import pdfplumber as pp\n",
    "import os"
   ]
  },
  {
   "cell_type": "code",
   "execution_count": 10,
   "id": "0f5c9eb4",
   "metadata": {},
   "outputs": [],
   "source": [
    "Rows={}"
   ]
  },
  {
   "cell_type": "code",
   "execution_count": 11,
   "id": "3712c48c",
   "metadata": {},
   "outputs": [],
   "source": [
    "no_of_rows=int(input(\"Enter the no of rows you want : \"))"
   ]
  },
  {
   "cell_type": "code",
   "execution_count": 12,
   "id": "1c2aa817",
   "metadata": {},
   "outputs": [],
   "source": [
    "for i in range(no_of_rows):\n",
    "    row1=input(f\"What is the name of row {i}?\")\n",
    "    Rows[\"row1\"]=row1"
   ]
  },
  {
   "cell_type": "code",
   "execution_count": 13,
   "id": "c4809b12",
   "metadata": {},
   "outputs": [
    {
     "name": "stdout",
     "output_type": "stream",
     "text": [
      "{'row1': 'Reg_no'}\n"
     ]
    }
   ],
   "source": [
    "print(Rows)"
   ]
  },
  {
   "cell_type": "code",
   "execution_count": null,
   "id": "72dcdfff",
   "metadata": {},
   "outputs": [],
   "source": []
  }
 ],
 "metadata": {
  "kernelspec": {
   "display_name": "Python 3",
   "language": "python",
   "name": "python3"
  },
  "language_info": {
   "codemirror_mode": {
    "name": "ipython",
    "version": 3
   },
   "file_extension": ".py",
   "mimetype": "text/x-python",
   "name": "python",
   "nbconvert_exporter": "python",
   "pygments_lexer": "ipython3",
   "version": "3.13.3"
  }
 },
 "nbformat": 4,
 "nbformat_minor": 5
}
